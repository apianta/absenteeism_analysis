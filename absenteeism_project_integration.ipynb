{
 "nbformat": 4,
 "nbformat_minor": 2,
 "metadata": {
  "language_info": {
   "name": "python",
   "codemirror_mode": {
    "name": "ipython",
    "version": 3
   },
   "version": "3.7.4-final"
  },
  "orig_nbformat": 2,
  "file_extension": ".py",
  "mimetype": "text/x-python",
  "name": "python",
  "npconvert_exporter": "python",
  "pygments_lexer": "ipython3",
  "version": 3,
  "kernelspec": {
   "name": "python3",
   "display_name": "Python 3"
  }
 },
 "cells": [
  {
   "cell_type": "code",
   "execution_count": 27,
   "metadata": {},
   "outputs": [],
   "source": [
    "from absenteeism_module import *"
   ]
  },
  {
   "cell_type": "code",
   "execution_count": 28,
   "metadata": {},
   "outputs": [
    {
     "data": {
      "text/html": "<div>\n<style scoped>\n    .dataframe tbody tr th:only-of-type {\n        vertical-align: middle;\n    }\n\n    .dataframe tbody tr th {\n        vertical-align: top;\n    }\n\n    .dataframe thead th {\n        text-align: right;\n    }\n</style>\n<table border=\"1\" class=\"dataframe\">\n  <thead>\n    <tr style=\"text-align: right;\">\n      <th></th>\n      <th>ID</th>\n      <th>Reason for Absence</th>\n      <th>Date</th>\n      <th>Transportation Expense</th>\n      <th>Distance to Work</th>\n      <th>Age</th>\n      <th>Daily Work Load Average</th>\n      <th>Body Mass Index</th>\n      <th>Education</th>\n      <th>Children</th>\n      <th>Pets</th>\n    </tr>\n  </thead>\n  <tbody>\n    <tr>\n      <td>0</td>\n      <td>22</td>\n      <td>27</td>\n      <td>01/06/2018</td>\n      <td>179</td>\n      <td>26</td>\n      <td>30</td>\n      <td>237.656</td>\n      <td>19</td>\n      <td>3</td>\n      <td>0</td>\n      <td>0</td>\n    </tr>\n    <tr>\n      <td>1</td>\n      <td>10</td>\n      <td>7</td>\n      <td>04/06/2018</td>\n      <td>361</td>\n      <td>52</td>\n      <td>28</td>\n      <td>237.656</td>\n      <td>27</td>\n      <td>1</td>\n      <td>1</td>\n      <td>4</td>\n    </tr>\n    <tr>\n      <td>2</td>\n      <td>14</td>\n      <td>23</td>\n      <td>06/06/2018</td>\n      <td>155</td>\n      <td>12</td>\n      <td>34</td>\n      <td>237.656</td>\n      <td>25</td>\n      <td>1</td>\n      <td>2</td>\n      <td>0</td>\n    </tr>\n    <tr>\n      <td>3</td>\n      <td>17</td>\n      <td>25</td>\n      <td>08/06/2018</td>\n      <td>179</td>\n      <td>22</td>\n      <td>40</td>\n      <td>237.656</td>\n      <td>22</td>\n      <td>2</td>\n      <td>2</td>\n      <td>0</td>\n    </tr>\n    <tr>\n      <td>4</td>\n      <td>14</td>\n      <td>10</td>\n      <td>08/06/2018</td>\n      <td>155</td>\n      <td>12</td>\n      <td>34</td>\n      <td>237.656</td>\n      <td>25</td>\n      <td>1</td>\n      <td>2</td>\n      <td>0</td>\n    </tr>\n  </tbody>\n</table>\n</div>",
      "text/plain": "   ID  Reason for Absence        Date  Transportation Expense  \\\n0  22                  27  01/06/2018                     179   \n1  10                   7  04/06/2018                     361   \n2  14                  23  06/06/2018                     155   \n3  17                  25  08/06/2018                     179   \n4  14                  10  08/06/2018                     155   \n\n   Distance to Work  Age  Daily Work Load Average  Body Mass Index  Education  \\\n0                26   30                  237.656               19          3   \n1                52   28                  237.656               27          1   \n2                12   34                  237.656               25          1   \n3                22   40                  237.656               22          2   \n4                12   34                  237.656               25          1   \n\n   Children  Pets  \n0         0     0  \n1         1     4  \n2         2     0  \n3         2     0  \n4         2     0  "
     },
     "execution_count": 28,
     "metadata": {},
     "output_type": "execute_result"
    }
   ],
   "source": [
    "df = pd.read_csv('Absenteeism_new_data.csv')\n",
    "df.head()"
   ]
  },
  {
   "cell_type": "code",
   "execution_count": 29,
   "metadata": {},
   "outputs": [
    {
     "name": "stderr",
     "output_type": "stream",
     "text": "C:\\Users\\apian\\Anaconda3\\lib\\site-packages\\sklearn\\base.py:306: UserWarning: Trying to unpickle estimator LogisticRegression from version 0.19.1 when using version 0.21.3. This might lead to breaking code or invalid results. Use at your own risk.\n  UserWarning)\nC:\\Users\\apian\\Anaconda3\\lib\\site-packages\\sklearn\\base.py:306: UserWarning: Trying to unpickle estimator StandardScaler from version 0.19.1 when using version 0.21.3. This might lead to breaking code or invalid results. Use at your own risk.\n  UserWarning)\n"
    }
   ],
   "source": [
    "model = absenteeism_model('model','scaler')"
   ]
  },
  {
   "cell_type": "code",
   "execution_count": 30,
   "metadata": {},
   "outputs": [],
   "source": [
    "model.load_and_clean_data('Absenteeism_new_data.csv')"
   ]
  },
  {
   "cell_type": "code",
   "execution_count": 31,
   "metadata": {},
   "outputs": [
    {
     "data": {
      "text/html": "<div>\n<style scoped>\n    .dataframe tbody tr th:only-of-type {\n        vertical-align: middle;\n    }\n\n    .dataframe tbody tr th {\n        vertical-align: top;\n    }\n\n    .dataframe thead th {\n        text-align: right;\n    }\n</style>\n<table border=\"1\" class=\"dataframe\">\n  <thead>\n    <tr style=\"text-align: right;\">\n      <th></th>\n      <th>Reason_1</th>\n      <th>Reason_2</th>\n      <th>Reason_3</th>\n      <th>Reason_4</th>\n      <th>Month Value</th>\n      <th>Transportation Expense</th>\n      <th>Age</th>\n      <th>Body Mass Index</th>\n      <th>Education</th>\n      <th>Children</th>\n      <th>Pet</th>\n      <th>Probability</th>\n      <th>Prediction</th>\n    </tr>\n  </thead>\n  <tbody>\n    <tr>\n      <td>0</td>\n      <td>0</td>\n      <td>0.0</td>\n      <td>0</td>\n      <td>1</td>\n      <td>6</td>\n      <td>179</td>\n      <td>30</td>\n      <td>19</td>\n      <td>1</td>\n      <td>0</td>\n      <td>0</td>\n      <td>0.122799</td>\n      <td>0</td>\n    </tr>\n    <tr>\n      <td>1</td>\n      <td>1</td>\n      <td>0.0</td>\n      <td>0</td>\n      <td>0</td>\n      <td>6</td>\n      <td>361</td>\n      <td>28</td>\n      <td>27</td>\n      <td>0</td>\n      <td>1</td>\n      <td>4</td>\n      <td>0.873392</td>\n      <td>1</td>\n    </tr>\n    <tr>\n      <td>2</td>\n      <td>0</td>\n      <td>0.0</td>\n      <td>0</td>\n      <td>1</td>\n      <td>6</td>\n      <td>155</td>\n      <td>34</td>\n      <td>25</td>\n      <td>0</td>\n      <td>2</td>\n      <td>0</td>\n      <td>0.268305</td>\n      <td>0</td>\n    </tr>\n    <tr>\n      <td>3</td>\n      <td>0</td>\n      <td>0.0</td>\n      <td>0</td>\n      <td>1</td>\n      <td>6</td>\n      <td>179</td>\n      <td>40</td>\n      <td>22</td>\n      <td>1</td>\n      <td>2</td>\n      <td>0</td>\n      <td>0.196385</td>\n      <td>0</td>\n    </tr>\n    <tr>\n      <td>4</td>\n      <td>1</td>\n      <td>0.0</td>\n      <td>0</td>\n      <td>0</td>\n      <td>6</td>\n      <td>155</td>\n      <td>34</td>\n      <td>25</td>\n      <td>0</td>\n      <td>2</td>\n      <td>0</td>\n      <td>0.723502</td>\n      <td>1</td>\n    </tr>\n    <tr>\n      <td>5</td>\n      <td>1</td>\n      <td>0.0</td>\n      <td>0</td>\n      <td>0</td>\n      <td>6</td>\n      <td>225</td>\n      <td>28</td>\n      <td>24</td>\n      <td>0</td>\n      <td>1</td>\n      <td>2</td>\n      <td>0.716891</td>\n      <td>1</td>\n    </tr>\n    <tr>\n      <td>6</td>\n      <td>1</td>\n      <td>0.0</td>\n      <td>0</td>\n      <td>0</td>\n      <td>6</td>\n      <td>118</td>\n      <td>46</td>\n      <td>25</td>\n      <td>0</td>\n      <td>2</td>\n      <td>0</td>\n      <td>0.570524</td>\n      <td>1</td>\n    </tr>\n    <tr>\n      <td>7</td>\n      <td>0</td>\n      <td>0.0</td>\n      <td>0</td>\n      <td>1</td>\n      <td>6</td>\n      <td>179</td>\n      <td>30</td>\n      <td>19</td>\n      <td>1</td>\n      <td>0</td>\n      <td>0</td>\n      <td>0.122799</td>\n      <td>0</td>\n    </tr>\n    <tr>\n      <td>8</td>\n      <td>0</td>\n      <td>0.0</td>\n      <td>0</td>\n      <td>1</td>\n      <td>6</td>\n      <td>118</td>\n      <td>37</td>\n      <td>28</td>\n      <td>0</td>\n      <td>0</td>\n      <td>0</td>\n      <td>0.134118</td>\n      <td>0</td>\n    </tr>\n    <tr>\n      <td>9</td>\n      <td>1</td>\n      <td>0.0</td>\n      <td>0</td>\n      <td>0</td>\n      <td>6</td>\n      <td>118</td>\n      <td>37</td>\n      <td>28</td>\n      <td>0</td>\n      <td>0</td>\n      <td>0</td>\n      <td>0.525007</td>\n      <td>1</td>\n    </tr>\n    <tr>\n      <td>10</td>\n      <td>0</td>\n      <td>0.0</td>\n      <td>0</td>\n      <td>1</td>\n      <td>6</td>\n      <td>378</td>\n      <td>36</td>\n      <td>21</td>\n      <td>0</td>\n      <td>2</td>\n      <td>4</td>\n      <td>0.454998</td>\n      <td>0</td>\n    </tr>\n    <tr>\n      <td>11</td>\n      <td>0</td>\n      <td>0.0</td>\n      <td>1</td>\n      <td>0</td>\n      <td>6</td>\n      <td>118</td>\n      <td>50</td>\n      <td>31</td>\n      <td>0</td>\n      <td>1</td>\n      <td>0</td>\n      <td>0.644742</td>\n      <td>1</td>\n    </tr>\n    <tr>\n      <td>12</td>\n      <td>0</td>\n      <td>0.0</td>\n      <td>1</td>\n      <td>0</td>\n      <td>6</td>\n      <td>233</td>\n      <td>31</td>\n      <td>21</td>\n      <td>1</td>\n      <td>1</td>\n      <td>8</td>\n      <td>0.351108</td>\n      <td>0</td>\n    </tr>\n    <tr>\n      <td>13</td>\n      <td>0</td>\n      <td>0.0</td>\n      <td>0</td>\n      <td>1</td>\n      <td>6</td>\n      <td>179</td>\n      <td>30</td>\n      <td>19</td>\n      <td>1</td>\n      <td>0</td>\n      <td>0</td>\n      <td>0.122799</td>\n      <td>0</td>\n    </tr>\n    <tr>\n      <td>14</td>\n      <td>0</td>\n      <td>0.0</td>\n      <td>0</td>\n      <td>0</td>\n      <td>6</td>\n      <td>235</td>\n      <td>48</td>\n      <td>33</td>\n      <td>0</td>\n      <td>1</td>\n      <td>5</td>\n      <td>0.096533</td>\n      <td>0</td>\n    </tr>\n    <tr>\n      <td>15</td>\n      <td>0</td>\n      <td>0.0</td>\n      <td>0</td>\n      <td>0</td>\n      <td>6</td>\n      <td>268</td>\n      <td>33</td>\n      <td>25</td>\n      <td>1</td>\n      <td>0</td>\n      <td>0</td>\n      <td>0.189479</td>\n      <td>0</td>\n    </tr>\n    <tr>\n      <td>16</td>\n      <td>0</td>\n      <td>0.0</td>\n      <td>1</td>\n      <td>0</td>\n      <td>6</td>\n      <td>118</td>\n      <td>50</td>\n      <td>31</td>\n      <td>0</td>\n      <td>1</td>\n      <td>0</td>\n      <td>0.644742</td>\n      <td>1</td>\n    </tr>\n    <tr>\n      <td>17</td>\n      <td>1</td>\n      <td>0.0</td>\n      <td>0</td>\n      <td>0</td>\n      <td>6</td>\n      <td>179</td>\n      <td>30</td>\n      <td>19</td>\n      <td>1</td>\n      <td>0</td>\n      <td>0</td>\n      <td>0.499738</td>\n      <td>0</td>\n    </tr>\n    <tr>\n      <td>18</td>\n      <td>0</td>\n      <td>0.0</td>\n      <td>0</td>\n      <td>1</td>\n      <td>6</td>\n      <td>291</td>\n      <td>40</td>\n      <td>25</td>\n      <td>0</td>\n      <td>1</td>\n      <td>1</td>\n      <td>0.389531</td>\n      <td>0</td>\n    </tr>\n    <tr>\n      <td>19</td>\n      <td>1</td>\n      <td>0.0</td>\n      <td>0</td>\n      <td>0</td>\n      <td>7</td>\n      <td>179</td>\n      <td>30</td>\n      <td>19</td>\n      <td>1</td>\n      <td>0</td>\n      <td>0</td>\n      <td>0.500161</td>\n      <td>1</td>\n    </tr>\n    <tr>\n      <td>20</td>\n      <td>0</td>\n      <td>0.0</td>\n      <td>0</td>\n      <td>1</td>\n      <td>7</td>\n      <td>118</td>\n      <td>37</td>\n      <td>28</td>\n      <td>0</td>\n      <td>0</td>\n      <td>0</td>\n      <td>0.134315</td>\n      <td>0</td>\n    </tr>\n    <tr>\n      <td>21</td>\n      <td>0</td>\n      <td>0.0</td>\n      <td>0</td>\n      <td>1</td>\n      <td>7</td>\n      <td>233</td>\n      <td>31</td>\n      <td>21</td>\n      <td>1</td>\n      <td>1</td>\n      <td>8</td>\n      <td>0.051367</td>\n      <td>0</td>\n    </tr>\n    <tr>\n      <td>22</td>\n      <td>1</td>\n      <td>0.0</td>\n      <td>0</td>\n      <td>0</td>\n      <td>7</td>\n      <td>118</td>\n      <td>37</td>\n      <td>28</td>\n      <td>0</td>\n      <td>0</td>\n      <td>0</td>\n      <td>0.525428</td>\n      <td>1</td>\n    </tr>\n    <tr>\n      <td>23</td>\n      <td>1</td>\n      <td>0.0</td>\n      <td>0</td>\n      <td>0</td>\n      <td>7</td>\n      <td>118</td>\n      <td>37</td>\n      <td>28</td>\n      <td>0</td>\n      <td>0</td>\n      <td>0</td>\n      <td>0.525428</td>\n      <td>1</td>\n    </tr>\n    <tr>\n      <td>24</td>\n      <td>0</td>\n      <td>0.0</td>\n      <td>0</td>\n      <td>1</td>\n      <td>7</td>\n      <td>233</td>\n      <td>31</td>\n      <td>21</td>\n      <td>1</td>\n      <td>1</td>\n      <td>8</td>\n      <td>0.051367</td>\n      <td>0</td>\n    </tr>\n    <tr>\n      <td>25</td>\n      <td>0</td>\n      <td>0.0</td>\n      <td>0</td>\n      <td>1</td>\n      <td>7</td>\n      <td>235</td>\n      <td>43</td>\n      <td>38</td>\n      <td>0</td>\n      <td>1</td>\n      <td>0</td>\n      <td>0.512352</td>\n      <td>1</td>\n    </tr>\n    <tr>\n      <td>26</td>\n      <td>0</td>\n      <td>0.0</td>\n      <td>1</td>\n      <td>0</td>\n      <td>7</td>\n      <td>233</td>\n      <td>31</td>\n      <td>21</td>\n      <td>1</td>\n      <td>1</td>\n      <td>8</td>\n      <td>0.351493</td>\n      <td>0</td>\n    </tr>\n    <tr>\n      <td>27</td>\n      <td>1</td>\n      <td>0.0</td>\n      <td>0</td>\n      <td>0</td>\n      <td>7</td>\n      <td>228</td>\n      <td>58</td>\n      <td>22</td>\n      <td>0</td>\n      <td>2</td>\n      <td>1</td>\n      <td>0.633385</td>\n      <td>1</td>\n    </tr>\n    <tr>\n      <td>28</td>\n      <td>0</td>\n      <td>0.0</td>\n      <td>0</td>\n      <td>1</td>\n      <td>7</td>\n      <td>118</td>\n      <td>37</td>\n      <td>28</td>\n      <td>0</td>\n      <td>0</td>\n      <td>0</td>\n      <td>0.134315</td>\n      <td>0</td>\n    </tr>\n    <tr>\n      <td>29</td>\n      <td>1</td>\n      <td>0.0</td>\n      <td>0</td>\n      <td>0</td>\n      <td>7</td>\n      <td>228</td>\n      <td>58</td>\n      <td>22</td>\n      <td>0</td>\n      <td>2</td>\n      <td>1</td>\n      <td>0.633385</td>\n      <td>1</td>\n    </tr>\n    <tr>\n      <td>30</td>\n      <td>0</td>\n      <td>0.0</td>\n      <td>0</td>\n      <td>1</td>\n      <td>7</td>\n      <td>189</td>\n      <td>33</td>\n      <td>25</td>\n      <td>0</td>\n      <td>2</td>\n      <td>2</td>\n      <td>0.244943</td>\n      <td>0</td>\n    </tr>\n    <tr>\n      <td>31</td>\n      <td>0</td>\n      <td>0.0</td>\n      <td>0</td>\n      <td>1</td>\n      <td>7</td>\n      <td>118</td>\n      <td>37</td>\n      <td>28</td>\n      <td>0</td>\n      <td>0</td>\n      <td>0</td>\n      <td>0.134315</td>\n      <td>0</td>\n    </tr>\n    <tr>\n      <td>32</td>\n      <td>0</td>\n      <td>0.0</td>\n      <td>0</td>\n      <td>1</td>\n      <td>7</td>\n      <td>361</td>\n      <td>28</td>\n      <td>27</td>\n      <td>0</td>\n      <td>1</td>\n      <td>4</td>\n      <td>0.491962</td>\n      <td>0</td>\n    </tr>\n    <tr>\n      <td>33</td>\n      <td>0</td>\n      <td>0.0</td>\n      <td>0</td>\n      <td>1</td>\n      <td>7</td>\n      <td>225</td>\n      <td>28</td>\n      <td>24</td>\n      <td>0</td>\n      <td>1</td>\n      <td>2</td>\n      <td>0.262240</td>\n      <td>0</td>\n    </tr>\n    <tr>\n      <td>34</td>\n      <td>1</td>\n      <td>0.0</td>\n      <td>0</td>\n      <td>0</td>\n      <td>7</td>\n      <td>369</td>\n      <td>31</td>\n      <td>25</td>\n      <td>0</td>\n      <td>3</td>\n      <td>0</td>\n      <td>0.966560</td>\n      <td>1</td>\n    </tr>\n    <tr>\n      <td>35</td>\n      <td>1</td>\n      <td>0.0</td>\n      <td>0</td>\n      <td>0</td>\n      <td>7</td>\n      <td>289</td>\n      <td>33</td>\n      <td>30</td>\n      <td>0</td>\n      <td>2</td>\n      <td>1</td>\n      <td>0.912399</td>\n      <td>1</td>\n    </tr>\n    <tr>\n      <td>36</td>\n      <td>1</td>\n      <td>0.0</td>\n      <td>0</td>\n      <td>0</td>\n      <td>7</td>\n      <td>235</td>\n      <td>37</td>\n      <td>29</td>\n      <td>1</td>\n      <td>1</td>\n      <td>1</td>\n      <td>0.746598</td>\n      <td>1</td>\n    </tr>\n    <tr>\n      <td>37</td>\n      <td>0</td>\n      <td>0.0</td>\n      <td>0</td>\n      <td>0</td>\n      <td>7</td>\n      <td>118</td>\n      <td>40</td>\n      <td>34</td>\n      <td>0</td>\n      <td>1</td>\n      <td>8</td>\n      <td>0.023090</td>\n      <td>0</td>\n    </tr>\n    <tr>\n      <td>38</td>\n      <td>0</td>\n      <td>0.0</td>\n      <td>0</td>\n      <td>0</td>\n      <td>7</td>\n      <td>231</td>\n      <td>39</td>\n      <td>35</td>\n      <td>0</td>\n      <td>2</td>\n      <td>2</td>\n      <td>0.295647</td>\n      <td>0</td>\n    </tr>\n    <tr>\n      <td>39</td>\n      <td>0</td>\n      <td>0.0</td>\n      <td>0</td>\n      <td>0</td>\n      <td>7</td>\n      <td>179</td>\n      <td>53</td>\n      <td>25</td>\n      <td>0</td>\n      <td>1</td>\n      <td>1</td>\n      <td>0.076450</td>\n      <td>0</td>\n    </tr>\n  </tbody>\n</table>\n</div>",
      "text/plain": "    Reason_1  Reason_2  Reason_3  Reason_4  Month Value  \\\n0          0       0.0         0         1            6   \n1          1       0.0         0         0            6   \n2          0       0.0         0         1            6   \n3          0       0.0         0         1            6   \n4          1       0.0         0         0            6   \n5          1       0.0         0         0            6   \n6          1       0.0         0         0            6   \n7          0       0.0         0         1            6   \n8          0       0.0         0         1            6   \n9          1       0.0         0         0            6   \n10         0       0.0         0         1            6   \n11         0       0.0         1         0            6   \n12         0       0.0         1         0            6   \n13         0       0.0         0         1            6   \n14         0       0.0         0         0            6   \n15         0       0.0         0         0            6   \n16         0       0.0         1         0            6   \n17         1       0.0         0         0            6   \n18         0       0.0         0         1            6   \n19         1       0.0         0         0            7   \n20         0       0.0         0         1            7   \n21         0       0.0         0         1            7   \n22         1       0.0         0         0            7   \n23         1       0.0         0         0            7   \n24         0       0.0         0         1            7   \n25         0       0.0         0         1            7   \n26         0       0.0         1         0            7   \n27         1       0.0         0         0            7   \n28         0       0.0         0         1            7   \n29         1       0.0         0         0            7   \n30         0       0.0         0         1            7   \n31         0       0.0         0         1            7   \n32         0       0.0         0         1            7   \n33         0       0.0         0         1            7   \n34         1       0.0         0         0            7   \n35         1       0.0         0         0            7   \n36         1       0.0         0         0            7   \n37         0       0.0         0         0            7   \n38         0       0.0         0         0            7   \n39         0       0.0         0         0            7   \n\n    Transportation Expense  Age  Body Mass Index  Education  Children  Pet  \\\n0                      179   30               19          1         0    0   \n1                      361   28               27          0         1    4   \n2                      155   34               25          0         2    0   \n3                      179   40               22          1         2    0   \n4                      155   34               25          0         2    0   \n5                      225   28               24          0         1    2   \n6                      118   46               25          0         2    0   \n7                      179   30               19          1         0    0   \n8                      118   37               28          0         0    0   \n9                      118   37               28          0         0    0   \n10                     378   36               21          0         2    4   \n11                     118   50               31          0         1    0   \n12                     233   31               21          1         1    8   \n13                     179   30               19          1         0    0   \n14                     235   48               33          0         1    5   \n15                     268   33               25          1         0    0   \n16                     118   50               31          0         1    0   \n17                     179   30               19          1         0    0   \n18                     291   40               25          0         1    1   \n19                     179   30               19          1         0    0   \n20                     118   37               28          0         0    0   \n21                     233   31               21          1         1    8   \n22                     118   37               28          0         0    0   \n23                     118   37               28          0         0    0   \n24                     233   31               21          1         1    8   \n25                     235   43               38          0         1    0   \n26                     233   31               21          1         1    8   \n27                     228   58               22          0         2    1   \n28                     118   37               28          0         0    0   \n29                     228   58               22          0         2    1   \n30                     189   33               25          0         2    2   \n31                     118   37               28          0         0    0   \n32                     361   28               27          0         1    4   \n33                     225   28               24          0         1    2   \n34                     369   31               25          0         3    0   \n35                     289   33               30          0         2    1   \n36                     235   37               29          1         1    1   \n37                     118   40               34          0         1    8   \n38                     231   39               35          0         2    2   \n39                     179   53               25          0         1    1   \n\n    Probability  Prediction  \n0      0.122799           0  \n1      0.873392           1  \n2      0.268305           0  \n3      0.196385           0  \n4      0.723502           1  \n5      0.716891           1  \n6      0.570524           1  \n7      0.122799           0  \n8      0.134118           0  \n9      0.525007           1  \n10     0.454998           0  \n11     0.644742           1  \n12     0.351108           0  \n13     0.122799           0  \n14     0.096533           0  \n15     0.189479           0  \n16     0.644742           1  \n17     0.499738           0  \n18     0.389531           0  \n19     0.500161           1  \n20     0.134315           0  \n21     0.051367           0  \n22     0.525428           1  \n23     0.525428           1  \n24     0.051367           0  \n25     0.512352           1  \n26     0.351493           0  \n27     0.633385           1  \n28     0.134315           0  \n29     0.633385           1  \n30     0.244943           0  \n31     0.134315           0  \n32     0.491962           0  \n33     0.262240           0  \n34     0.966560           1  \n35     0.912399           1  \n36     0.746598           1  \n37     0.023090           0  \n38     0.295647           0  \n39     0.076450           0  "
     },
     "execution_count": 31,
     "metadata": {},
     "output_type": "execute_result"
    }
   ],
   "source": [
    "# DISPLAY PREDICTED OUTPUTS\n",
    "model.predicted_outputs()"
   ]
  },
  {
   "cell_type": "markdown",
   "execution_count": null,
   "metadata": {},
   "outputs": [],
   "source": [
    "'Prediction':\n",
    "\n",
    "- 1 = the probability obtained was 50% or higher\n",
    "- 0 = the probability obatined was lower than 50%"
   ]
  },
  {
   "cell_type": "code",
   "execution_count": 32,
   "metadata": {},
   "outputs": [],
   "source": [
    "import pymysql"
   ]
  },
  {
   "cell_type": "code",
   "execution_count": 33,
   "metadata": {},
   "outputs": [],
   "source": [
    "conn = pymysql.connect(database = 'predicted_outputs', user = 'root', password = 'Turin123')\n",
    "cursor = conn.cursor()\n",
    "df_new_obs = model.predicted_outputs()"
   ]
  },
  {
   "cell_type": "markdown",
   "execution_count": 5,
   "metadata": {},
   "outputs": [],
   "source": [
    "### .execute() object"
   ]
  },
  {
   "cell_type": "code",
   "execution_count": 34,
   "metadata": {},
   "outputs": [
    {
     "data": {
      "text/plain": "0"
     },
     "execution_count": 34,
     "metadata": {},
     "output_type": "execute_result"
    }
   ],
   "source": [
    "cursor.execute('SELECT * FROM predicted_outputs;')"
   ]
  },
  {
   "cell_type": "markdown",
   "execution_count": null,
   "metadata": {},
   "outputs": [],
   "source": [
    "Create a structure that will insert the row's information from df_new_obs into a row in our database in MySQL('predicted_outputs')"
   ]
  },
  {
   "cell_type": "code",
   "execution_count": 35,
   "metadata": {},
   "outputs": [],
   "source": [
    "# create the insert statement\n",
    "insert_query = 'INSERT INTO predicted_outputs VALUES '"
   ]
  },
  {
   "cell_type": "code",
   "execution_count": 36,
   "metadata": {},
   "outputs": [
    {
     "data": {
      "text/plain": "(40, 13)"
     },
     "execution_count": 36,
     "metadata": {},
     "output_type": "execute_result"
    }
   ],
   "source": [
    "df_new_obs.shape\n"
   ]
  },
  {
   "cell_type": "code",
   "execution_count": 37,
   "metadata": {},
   "outputs": [
    {
     "data": {
      "text/plain": "array(['Reason_1', 'Reason_2', 'Reason_3', 'Reason_4', 'Month Value',\n       'Transportation Expense', 'Age', 'Body Mass Index', 'Education',\n       'Children', 'Pet', 'Probability', 'Prediction'], dtype=object)"
     },
     "execution_count": 37,
     "metadata": {},
     "output_type": "execute_result"
    }
   ],
   "source": [
    "df_new_obs.columns.values"
   ]
  },
  {
   "cell_type": "code",
   "execution_count": 38,
   "metadata": {},
   "outputs": [
    {
     "data": {
      "text/plain": "0     30\n1     28\n2     34\n3     40\n4     34\n5     28\n6     46\n7     30\n8     37\n9     37\n10    36\n11    50\n12    31\n13    30\n14    48\n15    33\n16    50\n17    30\n18    40\n19    30\n20    37\n21    31\n22    37\n23    37\n24    31\n25    43\n26    31\n27    58\n28    37\n29    58\n30    33\n31    37\n32    28\n33    28\n34    31\n35    33\n36    37\n37    40\n38    39\n39    53\nName: Age, dtype: int64"
     },
     "execution_count": 38,
     "metadata": {},
     "output_type": "execute_result"
    }
   ],
   "source": [
    "df_new_obs['Age']"
   ]
  },
  {
   "cell_type": "code",
   "execution_count": null,
   "metadata": {},
   "outputs": [],
   "source": [
    "for i in range(df_new_obs.shape[0]):\n",
    "    insert_query += '('\n",
    "\n",
    "    for i in range(df_new_obs.shape[1])\n"
   ]
  }
 ]
}